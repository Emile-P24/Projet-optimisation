{
 "cells": [
  {
   "cell_type": "markdown",
   "id": "583962a8",
   "metadata": {},
   "source": [
    "# Projet-optimisation\n",
    "\n",
    "## Partie 1\n",
    "\n",
    "1)\n",
    "L'expression (2) correspond aux bénéfices de la boulangerie : on soustraît les entrées d'argent par les dépenses. En particulier, on utilise min{q,d} pour obtenir la quantité vendue de chaque produit (qu'on multiplie par le prix de vente pour obtenir le revenu). En effet, q étant la quantité fabriquée et d la demande, la quantité réellement vendue correspond au minimum des deux : impossible de vendre plus que ce qu'on a produit, ni plus que ce que les clients voudront acheter.\n",
    "\n",
    "2)\n",
    "Ce dernier terme n'est cependant pas différentiable, ce qui rend inutilisable la majorité des algorithmes d'optimisation que nous avons étudiées en cours.\n",
    "\n",
    "3)\n",
    "Soit $i \\in \\llbracket 1,p \\rrbracket$ Supposons que $q_i>d_i$ On a :\n",
    "$$\n",
    "h_i(q,d) = \\frac{q_ie^{-\\alpha q_i} + d_ie^{-\\alpha d_i}}{e^{-\\alpha q_i} + e^{-\\alpha d_i}}\n",
    "$$\n",
    "$$\n",
    "h_i(q,d) = \\frac{q_ie^{\\alpha (d_i - q_i)} + d_i}{e^{\\alpha (d_i - q_i)} + 1}\n",
    "$$\n",
    "Or, $d_i - q_i < 0$, donc pour $\\alpha \\longrightarrow +\\infty$ :\n",
    "$$\n",
    "h_i(q,d) \\longrightarrow d_i\n",
    "$$\n",
    "le raisonnement pour $q_i$ est symétrique.\n",
    "\n",
    "On a donc finalement :\n",
    "$$\n",
    "h(q,d)\\underset{\\alpha\\to+\\infty}{\\longrightarrow}min(q,d)\n",
    "$$\n",
    "\n",
    "L'intérêt de s'intéresser à ce problème plutôt qu'au précédent est que la fonction h est différentiable. Nous pourrons donc utiliser des algorithmes d'optimisations qui ne s'appliquent qu'à des fonctions différentiables.\n",
    "\n",
    "4)\n",
    "On veut maximiser $v^T h(q,d) - c^T r$, c'est-à-dire minimiser $-v^T h(q,d) + c^T r$.\n",
    "\n",
    "La contrainte qui s'applique à la production est qu'on ne peut produire sans matières premières, ce qui se réécrit $r >= Aq$\n",
    "\n",
    "On veut également une quantité fabriquée positive, soit $q > 0$\n",
    "\n",
    "Ainsi :\n",
    "* $f(z) = f(q,d) = c^T r - v^T h(q,d)$ est la fonction que nous souhaitons minimiser\n",
    "* Il y a deux variables de décision : $q$ et $r$.\n",
    "* f est minimisée sous les contraintes $r >= Aq$ et $q > 0$"
   ]
  },
  {
   "cell_type": "markdown",
   "id": "1e87a805",
   "metadata": {},
   "source": [
    "## Partie 2\n",
    "\n",
    "5)\n",
    "Pour résoudre ce problème, on peut utiliser un algorithme d'optimisation sous contraintes. Notre fonction est différentiable, mais n'est pas convexe, nous avons donc fait appel à un algorithme de descente de la librairie scipy.optimize.minimize: SLSQP (Sequential Least Squares Programming).\n",
    "\n",
    "Si par exemple la fonction est convexe, il y a existence d'un point selle du Lagrangien, on peut donc utiliser l'algorithme d'Uzawa vu en cours.\n"
   ]
  },
  {
   "cell_type": "code",
   "execution_count": 19,
   "id": "6a4a6b22",
   "metadata": {},
   "outputs": [
    {
     "name": "stdout",
     "output_type": "stream",
     "text": [
      "Résultat de l'agorithme : 326.34351219337486\n",
      "Profit théorique maximal pour q=d et r = Aq : 330.17\n",
      "Le résultat est proche du max théorique avec alpha=0.1.\n"
     ]
    }
   ],
   "source": [
    "import numpy as np\n",
    "from scipy import optimize\n",
    "from casadi import *\n",
    "import time\n",
    "\n",
    "alpha = 0.1\n",
    "\n",
    "c = 0.001*np.array([30,1,1.3,4,1])\n",
    "v = np.array([0.9,1.5,1.1])\n",
    "d = np.array([400,67,33])\n",
    "A = np.array([[3.5,2,1],\n",
    "              [250,80,25],\n",
    "              [0,8,3],\n",
    "              [0,40,10],\n",
    "              [0,8.5,0]])\n",
    "\n",
    "def achat (q,A): \n",
    "    r = numpy.dot(q,np.transpose(A))\n",
    "    return r\n",
    "\n",
    "def h(q,d,alpha):\n",
    "    h = np.zeros(len(d))\n",
    "    for i in range(len(d)):\n",
    "        h[i] = (q[i]*np.exp(-alpha*q[i])+d[i]*np.exp(-alpha*d[i]))/(np.exp(-alpha*q[i])+np.exp(-alpha*d[i]))\n",
    "    return h\n",
    "\n",
    "def profit (c,v,d,A,alpha): # profit théorique calculé pour q=d et r = Aq\n",
    "    return np.dot(v,np.transpose(h(d,d,alpha))) - numpy.dot(c,np.transpose(achat(d,A)))\n",
    "\n",
    "def f(qr): # qr est la concaténation de q et r, dans cet ordre. Nécessaire pour scipy.optimize qui prend en entré des vecteurs de dimension (n,1)\n",
    "    q = qr[:3]\n",
    "    r = qr[-5:]\n",
    "    return numpy.dot(c,r) - np.dot(v,np.transpose(h(q,d,alpha)))\n",
    "\n",
    "def contrainte1(qr): # On veut r > Aq\n",
    "    q = qr[:3]\n",
    "    r = qr[-5:]\n",
    "    return  r - np.dot(A,q)\n",
    "\n",
    "def contrainte2(qr):# On veut r>0 et q>0\n",
    "    return qr\n",
    "    \n",
    "\n",
    "print(\"Résultat de l'agorithme : \" + str(-optimize.minimize(f,np.zeros(8),method='SLSQP', constraints = [{'type':'ineq', 'fun':contrainte1},{'type':'ineq', 'fun':contrainte2}]).fun))\n",
    "print(\"Profit théorique maximal pour q=d et r = Aq : \"+ str(profit(c,v,d,A,alpha)))\n",
    "print(\"Le résultat est proche du max théorique avec alpha=0.1.\")"
   ]
  },
  {
   "cell_type": "markdown",
   "id": "b4feeee3",
   "metadata": {},
   "source": [
    "6)\n",
    "Les résultats obtenus montrent que les maxima sont atteints pour r = Aq et q=d, ce qui semble cohérent : inutile d'acheter plus que ce dont on a besoin pour produire, et inutile de produire plus que ce que les gens achèteront ; réciproquement, produire moins que la demande serait sous-optimal : il reste un profit à aller chercher (le coût marginal de production et le prix de vente étant constants, s'il est profitable de vendre à 10 personnes, il est aussi profitable de vendre à 20).\n",
    "\n",
    "Pour alpha plus grand que 1, le profit max tend vers 0, car l'approximation de la fonction min par $h$ n'est pas rigoureuse  "
   ]
  },
  {
   "cell_type": "markdown",
   "id": "946502f7",
   "metadata": {},
   "source": [
    "7)\n",
    "On cherche désormais à maximiser le profit espéré de notre problème, c'est à dire la fonction :\n",
    "$$\n",
    "PE(q,r) = \\sum_{k} P(d^k,q,r)\\pi^k\n",
    "$$\n",
    "où $P(d^k,q,r) = v^Th(q,r,d^k) - c^Tr$\n",
    "\n",
    "On va donc minimiser $f(z) = -PE(z)$ où $z=q,r$"
   ]
  },
  {
   "cell_type": "code",
   "execution_count": 20,
   "id": "226385d9",
   "metadata": {},
   "outputs": [
    {
     "name": "stdout",
     "output_type": "stream",
     "text": [
      "Résultat de l'algorithme : 316.65518699610425\n"
     ]
    }
   ],
   "source": [
    "d1 = np.array([400,67,33])\n",
    "d2 = np.array([500,80,53])\n",
    "d3 = np.array([300,60,43])\n",
    "p1 = 0.5\n",
    "p2 = 0.3\n",
    "p3 = 0.2\n",
    "\n",
    "def f2(qr): # On minimise l'espérance du profit\n",
    "    q = qr[:3]\n",
    "    r = qr[-5:]\n",
    "    return ( p1*(numpy.dot(c,r) - np.dot(v,np.transpose(h(q,d1,alpha)))) \n",
    "            +p2*(numpy.dot(c,r) - np.dot(v,np.transpose(h(q,d2,alpha))))\n",
    "            +p3*(numpy.dot(c,r) - np.dot(v,np.transpose(h(q,d3,alpha)))))\n",
    "\n",
    "print(\"Résultat de l'algorithme : \" + str(-optimize.minimize(f2,np.zeros(8),method='SLSQP', constraints = [{'type':'ineq', 'fun':contrainte1},{'type':'ineq', 'fun':contrainte2}]).fun))"
   ]
  },
  {
   "cell_type": "markdown",
   "id": "391d0574",
   "metadata": {},
   "source": [
    "Commentaire: "
   ]
  }
 ],
 "metadata": {
  "kernelspec": {
   "display_name": "base",
   "language": "python",
   "name": "python3"
  },
  "language_info": {
   "codemirror_mode": {
    "name": "ipython",
    "version": 3
   },
   "file_extension": ".py",
   "mimetype": "text/x-python",
   "name": "python",
   "nbconvert_exporter": "python",
   "pygments_lexer": "ipython3",
   "version": "3.12.4"
  }
 },
 "nbformat": 4,
 "nbformat_minor": 5
}
